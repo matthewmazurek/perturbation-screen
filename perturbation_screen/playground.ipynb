{
 "cells": [
  {
   "cell_type": "code",
   "execution_count": 1,
   "metadata": {},
   "outputs": [
    {
     "name": "stderr",
     "output_type": "stream",
     "text": [
      "/Users/matthewmazurek/Library/Caches/pypoetry/virtualenvs/perturbation-screen-dje1g3KK-py3.10/lib/python3.10/site-packages/tqdm/auto.py:21: TqdmWarning: IProgress not found. Please update jupyter and ipywidgets. See https://ipywidgets.readthedocs.io/en/stable/user_install.html\n",
      "  from .autonotebook import tqdm as notebook_tqdm\n",
      "/Users/matthewmazurek/Library/Caches/pypoetry/virtualenvs/perturbation-screen-dje1g3KK-py3.10/lib/python3.10/site-packages/numba/np/ufunc/dufunc.py:343: NumbaWarning: Compilation requested for previously compiled argument types ((uint32,)). This has no effect and perhaps indicates a bug in the calling code (compiling a ufunc more than once for the same signature\n",
      "  warnings.warn(msg, errors.NumbaWarning)\n",
      "/Users/matthewmazurek/Library/Caches/pypoetry/virtualenvs/perturbation-screen-dje1g3KK-py3.10/lib/python3.10/site-packages/numba/np/ufunc/dufunc.py:343: NumbaWarning: Compilation requested for previously compiled argument types ((uint32,)). This has no effect and perhaps indicates a bug in the calling code (compiling a ufunc more than once for the same signature\n",
      "  warnings.warn(msg, errors.NumbaWarning)\n",
      "/Users/matthewmazurek/Library/Caches/pypoetry/virtualenvs/perturbation-screen-dje1g3KK-py3.10/lib/python3.10/site-packages/numba/np/ufunc/dufunc.py:343: NumbaWarning: Compilation requested for previously compiled argument types ((uint32,)). This has no effect and perhaps indicates a bug in the calling code (compiling a ufunc more than once for the same signature\n",
      "  warnings.warn(msg, errors.NumbaWarning)\n"
     ]
    }
   ],
   "source": [
    "import dynamo as dyn\n",
    "import anndata\n",
    "import numpy as np\n",
    "import pandas as pd\n",
    "\n",
    "import warnings\n",
    "\n",
    "warnings.filterwarnings(\"ignore\")"
   ]
  },
  {
   "cell_type": "code",
   "execution_count": 3,
   "metadata": {},
   "outputs": [],
   "source": [
    "from implementations.dynamo_perturbation_screen import DynamoPerturbationScreen\n",
    "\n",
    "\n",
    "screen = DynamoPerturbationScreen(group_label='tissue')"
   ]
  },
  {
   "cell_type": "code",
   "execution_count": 5,
   "metadata": {},
   "outputs": [],
   "source": [
    "adata = screen.load_data('../data/fib_labeled_processed.h5ad')"
   ]
  },
  {
   "cell_type": "code",
   "execution_count": 22,
   "metadata": {},
   "outputs": [
    {
     "data": {
      "text/plain": [
       "possorted_genome_bam_SIJ53:AACAACCCAGTCGCTGx      Back\n",
       "possorted_genome_bam_SIJ53:AAAGGGCAGTATGCAAx      Back\n",
       "possorted_genome_bam_SIJ53:AAACCCATCATCACAGx      Back\n",
       "possorted_genome_bam_SIJ53:AACCAACTCCTAACAGx      Back\n",
       "possorted_genome_bam_SIJ53:AACAAAGCAGCCGTTGx      Back\n",
       "                                                 ...  \n",
       "possorted_genome_bam_0YTDD:TTGAGTGCACAGAGACx    Velvet\n",
       "possorted_genome_bam_0YTDD:TTTCCTCCACAGCCACx    Velvet\n",
       "possorted_genome_bam_0YTDD:TTTCGATGTCCGGTCAx    Velvet\n",
       "possorted_genome_bam_0YTDD:TTTACGTCATTGGCATx    Velvet\n",
       "possorted_genome_bam_0YTDD:TTTACGTTCCAAAGGGx    Velvet\n",
       "Name: tissue, Length: 8678, dtype: category\n",
       "Categories (2, object): ['Back', 'Velvet']"
      ]
     },
     "execution_count": 22,
     "metadata": {},
     "output_type": "execute_result"
    }
   ],
   "source": [
    "adata.obs['sample_ident']"
   ]
  },
  {
   "cell_type": "code",
   "execution_count": null,
   "metadata": {},
   "outputs": [],
   "source": [
    "# screen.preprocess(adata)"
   ]
  },
  {
   "cell_type": "code",
   "execution_count": 7,
   "metadata": {},
   "outputs": [],
   "source": [
    "with open('../gene_list.csv', 'r') as f:\n",
    "    genes = [line.strip() for line in f if line.strip()]"
   ]
  },
  {
   "cell_type": "code",
   "execution_count": 14,
   "metadata": {},
   "outputs": [
    {
     "name": "stdout",
     "output_type": "stream",
     "text": [
      "['ACTB', 'HPRT', 'SDHA']\n"
     ]
    }
   ],
   "source": [
    "print([gene for gene in genes if gene not in adata.var_names[adata.var.use_for_pca]])"
   ]
  },
  {
   "cell_type": "code",
   "execution_count": 10,
   "metadata": {},
   "outputs": [
    {
     "data": {
      "text/plain": [
       "(['GAPDH',\n",
       "  'CCN2',\n",
       "  'CRABP1',\n",
       "  'MDK',\n",
       "  'PLAU',\n",
       "  'NFKB1',\n",
       "  'LEF1',\n",
       "  'TPM1',\n",
       "  'POSTN',\n",
       "  'MT2A',\n",
       "  'TNFAIP6',\n",
       "  'IL6',\n",
       "  'SOD2',\n",
       "  'COL1A1',\n",
       "  'ACTB',\n",
       "  'UBC',\n",
       "  'SDHA'],\n",
       " ['HPRT'])"
      ]
     },
     "execution_count": 10,
     "metadata": {},
     "output_type": "execute_result"
    }
   ],
   "source": [
    "from interfaces.perturbation_screen import filter_genes\n",
    "\n",
    "\n",
    "filter_genes(genes, screen.get_valid_genes(adata))"
   ]
  },
  {
   "cell_type": "code",
   "execution_count": 13,
   "metadata": {},
   "outputs": [],
   "source": [
    "import pickle\n",
    "\n",
    "with open('adata_after.pkl', 'wb') as f:\n",
    "    pickle.dump(adata, f)  # This will likely raise an exception"
   ]
  }
 ],
 "metadata": {
  "kernelspec": {
   "display_name": "perturbation-screen-dje1g3KK-py3.10",
   "language": "python",
   "name": "python3"
  },
  "language_info": {
   "codemirror_mode": {
    "name": "ipython",
    "version": 3
   },
   "file_extension": ".py",
   "mimetype": "text/x-python",
   "name": "python",
   "nbconvert_exporter": "python",
   "pygments_lexer": "ipython3",
   "version": "3.10.1"
  }
 },
 "nbformat": 4,
 "nbformat_minor": 2
}
